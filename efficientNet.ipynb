{
  "nbformat": 4,
  "nbformat_minor": 0,
  "metadata": {
    "colab": {
      "name": "efficientNet.ipynb",
      "provenance": [],
      "collapsed_sections": [],
      "machine_shape": "hm",
      "mount_file_id": "1pwwR9AzTsX8gZC1gVfhHUEXTDAHCre2A",
      "authorship_tag": "ABX9TyMNH1/KUUYHnbdEVbnKugRN",
      "include_colab_link": true
    },
    "kernelspec": {
      "name": "python3",
      "display_name": "Python 3"
    },
    "language_info": {
      "name": "python"
    },
    "accelerator": "TPU"
  },
  "cells": [
    {
      "cell_type": "markdown",
      "metadata": {
        "id": "view-in-github",
        "colab_type": "text"
      },
      "source": [
        "<a href=\"https://colab.research.google.com/github/By0ungJoo/dacon/blob/main/efficientNet.ipynb\" target=\"_parent\"><img src=\"https://colab.research.google.com/assets/colab-badge.svg\" alt=\"Open In Colab\"/></a>"
      ]
    },
    {
      "cell_type": "code",
      "source": [
        "!pip install -q efficientnet >> /dev/null"
      ],
      "metadata": {
        "id": "6Dkel77cd13c"
      },
      "execution_count": null,
      "outputs": []
    },
    {
      "cell_type": "code",
      "execution_count": null,
      "metadata": {
        "id": "ziwSh0yVdl9M"
      },
      "outputs": [],
      "source": [
        "import numpy as np\n",
        "import pandas as pd\n",
        "from tqdm import tqdm\n",
        "import matplotlib.pyplot as plt\n",
        "import tensorflow as tf\n",
        "import tensorflow.keras.backend as K\n",
        "import efficientnet.tfkeras as efn\n",
        "from sklearn.model_selection import KFold\n",
        "from keras.preprocessing.image import ImageDataGenerator\n",
        "from sklearn.model_selection import train_test_split\n",
        "\n",
        "from torchsummary import summary\n",
        "import time\n",
        "import copy\n",
        "import cv2\n",
        "import gc"
      ]
    },
    {
      "cell_type": "code",
      "source": [
        "DEVICE            = \"GPU\"  # Any value in [\"TPU\", \"GPU\"]\n",
        "SEED              = 8080\n",
        "FOLDS             = 5\n",
        "FOLD_WEIGHTS      = [1./FOLDS]*FOLDS\n",
        "BATCH_SIZE        = 64\n",
        "EPOCHS            = 5000\n",
        "MONITOR           = \"val_loss\"\n",
        "MONITOR_MODE      = \"min\"\n",
        "ES_PATIENCE       = 5\n",
        "LR_PATIENCE       = 0\n",
        "LR_FACTOR         = 0.5\n",
        "EFF_NET           = 3\n",
        "EFF_NET_WEIGHTS   = 'noisy-student'\n",
        "LABEL_SMOOTHING   = 0.1\n",
        "VERBOSE           = 1"
      ],
      "metadata": {
        "id": "bEX1OgyUMv-D"
      },
      "execution_count": null,
      "outputs": []
    },
    {
      "cell_type": "code",
      "source": [
        "## 주어진 train_df에 각 레이블마다 원-핫인코딩값을 생성할 인덱스 부여\n",
        "train_df = pd.read_csv('/content/drive/MyDrive/DACON_이상치 탐지 알고리즘 경진대회/open/train_df.csv')\n",
        "final_train88_df = train_df.copy()\n",
        "label_lst = final_train88_df.label.unique().tolist()\n",
        "label_lst.sort()\n",
        "one_hot_label = pd.DataFrame(label_lst, columns = {'label'})\n",
        "one_hot_label['one_hot_label'] = one_hot_label.index.tolist()\n",
        "one_hot_label\n",
        "\n",
        "final_train88_df = pd.merge(final_train88_df, one_hot_label, how = 'left', on = 'label')\n",
        "final_train88_df\n",
        "\n",
        "# 학습 파일 기본 경로 지정 및 넘파이 배열로 변환\n",
        "# 넘파일 배열을 생성할 레이블의 one_hot_label값 [0 ~ 87] / df > one_hot_label 참조\n",
        "image_dir = '/content/drive/MyDrive/dacon/dacon/open/train'\n",
        "num_total_label = 88 # 레이블 총 개수\n",
        "one_hot_label = [x for x in range(88)]\n",
        "\n",
        "img_rows = 224\n",
        "img_cols = 224\n",
        "\n",
        "X = [] # 입력 데이터\n",
        "Y = [] # 정답값\n",
        "\n",
        "## 이미지 배열 파일 생성\n",
        "for index, row in tqdm(final_train88_df.iterrows(), total = len(final_train88_df)) : \n",
        "  filename = row['file_name']\n",
        "  label_idx = row['one_hot_label']\n",
        "  # img_label : Y 배열에 들어갈 원-핫 인코딩된 정답값\n",
        "  img_label = [0 for i in range(num_total_label)]\n",
        "  img_label[label_idx] = 1\n",
        "\n",
        "  img = cv2.imread(f'{image_dir}/{filename}').astype('float32')\n",
        "  img = cv2.resize(img, (img_rows,img_cols))#, fx=img_w/img.shape[1], fy=img_h/img.shape[0])\n",
        "  X.append(img/256)\n",
        "  Y.append(img_label)\n",
        "\n",
        "X = np.array(X)\n",
        "Y = np.array(Y)\n",
        "\n",
        "x_train, x_test, y_train, y_test = train_test_split(X, Y, stratify=Y, test_size=0.3, random_state=1234)\n",
        "\n",
        "## 안쓰는 변수 비우기 : 램관리\n",
        "del X, Y\n",
        "gc.collect()"
      ],
      "metadata": {
        "colab": {
          "base_uri": "https://localhost:8080/"
        },
        "id": "ui4ALMVefK7z",
        "outputId": "f7e23634-0adb-4b5f-a037-075b79e091bb"
      },
      "execution_count": null,
      "outputs": [
        {
          "output_type": "stream",
          "name": "stderr",
          "text": [
            "100%|██████████| 4277/4277 [02:21<00:00, 30.24it/s]\n"
          ]
        },
        {
          "output_type": "execute_result",
          "data": {
            "text/plain": [
              "0"
            ]
          },
          "metadata": {},
          "execution_count": 7
        }
      ]
    },
    {
      "cell_type": "code",
      "source": [
        "X = np.load('/content/drive/MyDrive/Colab Notebooks/X.npy')\n",
        "y = np.load('/content/drive/MyDrive/Colab Notebooks/y.npy')"
      ],
      "metadata": {
        "colab": {
          "base_uri": "https://localhost:8080/",
          "height": 187
        },
        "id": "ErVwq11q81UX",
        "outputId": "4f4f6d7f-163d-4ba4-a158-4f659141e7f8"
      },
      "execution_count": null,
      "outputs": [
        {
          "output_type": "error",
          "ename": "NameError",
          "evalue": "ignored",
          "traceback": [
            "\u001b[0;31m---------------------------------------------------------------------------\u001b[0m",
            "\u001b[0;31mNameError\u001b[0m                                 Traceback (most recent call last)",
            "\u001b[0;32m<ipython-input-1-651b16a2db51>\u001b[0m in \u001b[0;36m<module>\u001b[0;34m()\u001b[0m\n\u001b[0;32m----> 1\u001b[0;31m \u001b[0mX\u001b[0m \u001b[0;34m=\u001b[0m \u001b[0mnp\u001b[0m\u001b[0;34m.\u001b[0m\u001b[0mload\u001b[0m\u001b[0;34m(\u001b[0m\u001b[0;34m'/content/drive/MyDrive/Colab Notebooks/X.npy'\u001b[0m\u001b[0;34m)\u001b[0m\u001b[0;34m\u001b[0m\u001b[0;34m\u001b[0m\u001b[0m\n\u001b[0m\u001b[1;32m      2\u001b[0m \u001b[0my\u001b[0m \u001b[0;34m=\u001b[0m \u001b[0mnp\u001b[0m\u001b[0;34m.\u001b[0m\u001b[0mload\u001b[0m\u001b[0;34m(\u001b[0m\u001b[0;34m'/content/drive/MyDrive/Colab Notebooks/y.npy'\u001b[0m\u001b[0;34m)\u001b[0m\u001b[0;34m\u001b[0m\u001b[0;34m\u001b[0m\u001b[0m\n",
            "\u001b[0;31mNameError\u001b[0m: name 'np' is not defined"
          ]
        }
      ]
    },
    {
      "cell_type": "code",
      "source": [
        "x_train.shape"
      ],
      "metadata": {
        "colab": {
          "base_uri": "https://localhost:8080/"
        },
        "id": "6cGQ9Rpe8pMc",
        "outputId": "39500e9a-c9be-4516-e165-0ee590b91872"
      },
      "execution_count": null,
      "outputs": [
        {
          "output_type": "execute_result",
          "data": {
            "text/plain": [
              "(2993, 512, 512, 3)"
            ]
          },
          "metadata": {},
          "execution_count": 5
        }
      ]
    },
    {
      "cell_type": "code",
      "source": [
        "X.shape[3]"
      ],
      "metadata": {
        "colab": {
          "base_uri": "https://localhost:8080/"
        },
        "id": "6U93KysUNnx1",
        "outputId": "e248cdfa-93ae-49db-ec55-ab5488e3cc44"
      },
      "execution_count": null,
      "outputs": [
        {
          "output_type": "execute_result",
          "data": {
            "text/plain": [
              "3"
            ]
          },
          "metadata": {},
          "execution_count": 9
        }
      ]
    },
    {
      "cell_type": "code",
      "source": [
        "eff_nets = [\n",
        "    efn.EfficientNetB0,\n",
        "    efn.EfficientNetB1,\n",
        "    efn.EfficientNetB2,\n",
        "    efn.EfficientNetB3,\n",
        "    efn.EfficientNetB4,\n",
        "    efn.EfficientNetB5,\n",
        "    efn.EfficientNetB6,\n",
        "    efn.EfficientNetB7,\n",
        "    efn.EfficientNetL2,\n",
        "]\n",
        "\n",
        "def build_model ():\n",
        "    inp = tf.keras.layers.Input(shape=(x_train.shape[1], x_train.shape[2], x_train.shape[3]))\n",
        "    oup = eff_nets[EFF_NET](\n",
        "        input_shape=(x_train.shape[1], x_train.shape[2], x_train.shape[3]),\n",
        "        weights=EFF_NET_WEIGHTS,\n",
        "        include_top=False,)(inp)\n",
        "    oup = tf.keras.layers.GlobalAveragePooling2D()(oup)\n",
        "    oup = tf.keras.layers.Dense(512, activation='linear')(oup)\n",
        "    oup = tf.keras.layers.Activation('relu')(oup)\n",
        "    oup = tf.keras.layers.Dropout(0.5)(oup)\n",
        "    oup = tf.keras.layers.Dense(88, activation='linear')(oup)\n",
        "    oup = tf.keras.layers.Activation('softmax')(oup)\n",
        "    \n",
        "    model = tf.keras.Model (inputs=[inp], outputs=[oup])\n",
        "    \n",
        "    loss = tf.keras.losses.CategoricalCrossentropy(\n",
        "        from_logits=False,\n",
        "        label_smoothing=LABEL_SMOOTHING,\n",
        "    )\n",
        "    \n",
        "    opt = tf.keras.optimizers.Nadam(learning_rate=3e-4)\n",
        "    \n",
        "    model.compile(optimizer=opt,loss=loss,metrics=['acc'])\n",
        "    \n",
        "    return model\n",
        "\n",
        "build_model().summary()"
      ],
      "metadata": {
        "colab": {
          "base_uri": "https://localhost:8080/"
        },
        "id": "JI3apb9ofLuG",
        "outputId": "d4421ac9-c2af-4901-b815-aeb581b9580e"
      },
      "execution_count": null,
      "outputs": [
        {
          "output_type": "stream",
          "name": "stdout",
          "text": [
            "Model: \"model\"\n",
            "_________________________________________________________________\n",
            " Layer (type)                Output Shape              Param #   \n",
            "=================================================================\n",
            " input_1 (InputLayer)        [(None, 224, 224, 3)]     0         \n",
            "                                                                 \n",
            " efficientnet-b3 (Functional  (None, 7, 7, 1536)       10783528  \n",
            " )                                                               \n",
            "                                                                 \n",
            " global_average_pooling2d (G  (None, 1536)             0         \n",
            " lobalAveragePooling2D)                                          \n",
            "                                                                 \n",
            " dense (Dense)               (None, 512)               786944    \n",
            "                                                                 \n",
            " activation (Activation)     (None, 512)               0         \n",
            "                                                                 \n",
            " dropout (Dropout)           (None, 512)               0         \n",
            "                                                                 \n",
            " dense_1 (Dense)             (None, 88)                45144     \n",
            "                                                                 \n",
            " activation_1 (Activation)   (None, 88)                0         \n",
            "                                                                 \n",
            "=================================================================\n",
            "Total params: 11,615,616\n",
            "Trainable params: 11,528,320\n",
            "Non-trainable params: 87,296\n",
            "_________________________________________________________________\n"
          ]
        }
      ]
    },
    {
      "cell_type": "code",
      "source": [
        "weights_filename='fold-1.h5'\n",
        "# Save best model for each fold\n",
        "sv = tf.keras.callbacks.ModelCheckpoint(\n",
        "    weights_filename, monitor=MONITOR, verbose=VERBOSE, save_best_only=True,\n",
        "    save_weights_only=True, mode=MONITOR_MODE, save_freq='epoch')\n",
        "\n",
        "# Learning rate reduction\n",
        "lrr = tf.keras.callbacks.ReduceLROnPlateau(\n",
        "    monitor=MONITOR,\n",
        "    factor=LR_FACTOR,\n",
        "    patience=LR_PATIENCE,\n",
        "    verbose=VERBOSE,\n",
        "    mode=MONITOR_MODE)\n",
        "\n",
        "# Early stopping\n",
        "es = tf.keras.callbacks.EarlyStopping(\n",
        "    monitor=MONITOR,\n",
        "    patience=ES_PATIENCE,\n",
        "    verbose=VERBOSE,\n",
        "    mode=MONITOR_MODE)"
      ],
      "metadata": {
        "id": "9ok2NQ_18vs7"
      },
      "execution_count": null,
      "outputs": []
    },
    {
      "cell_type": "code",
      "source": [
        "model = build_model()"
      ],
      "metadata": {
        "id": "Lo1cCjcBU2lt"
      },
      "execution_count": null,
      "outputs": []
    },
    {
      "cell_type": "code",
      "source": [
        "history = model.fit(x_train, y_train, batch_size=BATCH_SIZE, epochs=EPOCHS, callbacks = [sv, lrr, es],\n",
        "                    validation_data=(x_test, y_test),verbose=VERBOSE)"
      ],
      "metadata": {
        "colab": {
          "base_uri": "https://localhost:8080/"
        },
        "id": "sCzQxgY8T_pw",
        "outputId": "e31078ef-a005-4e54-f8ab-bb4d5739693c"
      },
      "execution_count": null,
      "outputs": [
        {
          "output_type": "stream",
          "name": "stdout",
          "text": [
            "Epoch 1/5000\n",
            "47/47 [==============================] - ETA: 0s - loss: 0.8277 - acc: 0.9953\n",
            "Epoch 1: val_loss did not improve from 0.92851\n",
            "47/47 [==============================] - 369s 8s/step - loss: 0.8277 - acc: 0.9953 - val_loss: 0.9308 - val_acc: 0.9502 - lr: 4.6875e-06\n",
            "Epoch 2/5000\n",
            "47/47 [==============================] - ETA: 0s - loss: 0.8302 - acc: 0.9953\n",
            "Epoch 2: val_loss did not improve from 0.92851\n",
            "\n",
            "Epoch 2: ReduceLROnPlateau reducing learning rate to 2.3437501113221515e-06.\n",
            "47/47 [==============================] - 363s 8s/step - loss: 0.8302 - acc: 0.9953 - val_loss: 0.9314 - val_acc: 0.9509 - lr: 4.6875e-06\n",
            "Epoch 3/5000\n",
            "47/47 [==============================] - ETA: 0s - loss: 0.8277 - acc: 0.9963\n",
            "Epoch 3: val_loss did not improve from 0.92851\n",
            "\n",
            "Epoch 3: ReduceLROnPlateau reducing learning rate to 1.1718750556610757e-06.\n",
            "47/47 [==============================] - 374s 8s/step - loss: 0.8277 - acc: 0.9963 - val_loss: 0.9310 - val_acc: 0.9509 - lr: 2.3438e-06\n",
            "Epoch 4/5000\n",
            "47/47 [==============================] - ETA: 0s - loss: 0.8274 - acc: 0.9963\n",
            "Epoch 4: val_loss did not improve from 0.92851\n",
            "\n",
            "Epoch 4: ReduceLROnPlateau reducing learning rate to 5.859375278305379e-07.\n",
            "47/47 [==============================] - 377s 8s/step - loss: 0.8274 - acc: 0.9963 - val_loss: 0.9311 - val_acc: 0.9509 - lr: 1.1719e-06\n",
            "Epoch 5/5000\n",
            "47/47 [==============================] - ETA: 0s - loss: 0.8264 - acc: 0.9973\n",
            "Epoch 5: val_loss did not improve from 0.92851\n",
            "\n",
            "Epoch 5: ReduceLROnPlateau reducing learning rate to 2.9296876391526894e-07.\n",
            "47/47 [==============================] - 368s 8s/step - loss: 0.8264 - acc: 0.9973 - val_loss: 0.9312 - val_acc: 0.9509 - lr: 5.8594e-07\n",
            "Epoch 6/5000\n",
            "47/47 [==============================] - ETA: 0s - loss: 0.8289 - acc: 0.9960\n",
            "Epoch 6: val_loss did not improve from 0.92851\n",
            "\n",
            "Epoch 6: ReduceLROnPlateau reducing learning rate to 1.4648438195763447e-07.\n",
            "47/47 [==============================] - 374s 8s/step - loss: 0.8289 - acc: 0.9960 - val_loss: 0.9310 - val_acc: 0.9509 - lr: 2.9297e-07\n",
            "Epoch 6: early stopping\n"
          ]
        }
      ]
    },
    {
      "cell_type": "code",
      "source": [
        "# 참고 https://www.kaggle.com/code/gabrielmilan/efficientnet-baseline"
      ],
      "metadata": {
        "id": "gKY6ieN2U45A"
      },
      "execution_count": null,
      "outputs": []
    }
  ]
}